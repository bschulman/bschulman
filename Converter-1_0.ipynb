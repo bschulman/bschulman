{
  "nbformat": 4,
  "nbformat_minor": 0,
  "metadata": {
    "colab": {
      "provenance": [],
      "authorship_tag": "ABX9TyNDt+DaOnZ98PMLUPNPS8ly"
    },
    "kernelspec": {
      "name": "python3",
      "display_name": "Python 3"
    },
    "language_info": {
      "name": "python"
    }
  },
  "cells": [
    {
      "cell_type": "code",
      "execution_count": 2,
      "metadata": {
        "id": "iImsebgO8I0n"
      },
      "outputs": [],
      "source": [
        "!pip install tabula-py\n",
        "import tabula\n",
        "import pandas as pd\n",
        "from pathlib import Path"
      ]
    },
    {
      "cell_type": "code",
      "source": [
        "filepath = \"/Drive/out.csv\"\n",
        "out = tabula.read_pdf(\"/content/FILE_NAME.pdf\", pages=1)\n",
        "if len(out) !=0:\n",
        "  out = out[0]\n",
        "  csv = out.to_csv(filepath, index=False)\n",
        "\n"
      ],
      "metadata": {
        "id": "4DTe7gs48J-S"
      },
      "execution_count": 19,
      "outputs": []
    },
    {
      "cell_type": "code",
      "source": [],
      "metadata": {
        "id": "ZpoGD_of-0bf"
      },
      "execution_count": null,
      "outputs": []
    }
  ]
}